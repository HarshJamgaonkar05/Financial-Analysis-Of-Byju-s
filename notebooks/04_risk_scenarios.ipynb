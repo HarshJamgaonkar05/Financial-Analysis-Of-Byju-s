{
 "cells": [
  {
   "cell_type": "markdown",
   "id": "bf22125d",
   "metadata": {},
   "source": [
    "Model what happens under different survival strategies\n",
    "\n",
    "E.g., layoffs, asset sales, acquisition of Aakash, etc."
   ]
  }
 ],
 "metadata": {
  "language_info": {
   "name": "python"
  }
 },
 "nbformat": 4,
 "nbformat_minor": 5
}
