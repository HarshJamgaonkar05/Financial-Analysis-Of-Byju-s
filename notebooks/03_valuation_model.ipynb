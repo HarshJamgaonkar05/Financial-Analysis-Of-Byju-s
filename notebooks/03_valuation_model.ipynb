{
 "cells": [
  {
   "cell_type": "markdown",
   "id": "69f1b919",
   "metadata": {},
   "source": [
    "Compare BYJU’S valuation to actual earnings\n",
    "\n",
    "Estimate rough intrinsic value (optional: DCF)"
   ]
  }
 ],
 "metadata": {
  "language_info": {
   "name": "python"
  }
 },
 "nbformat": 4,
 "nbformat_minor": 5
}
