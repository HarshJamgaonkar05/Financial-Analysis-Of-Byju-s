{
 "cells": [
  {
   "cell_type": "markdown",
   "id": "9a547e50",
   "metadata": {},
   "source": [
    "Plot funding rounds from seed to Series F\n",
    "\n",
    "Visualize how valuation changed over time\n",
    "\n",
    "Show cumulative money raised"
   ]
  }
 ],
 "metadata": {
  "language_info": {
   "name": "python"
  }
 },
 "nbformat": 4,
 "nbformat_minor": 5
}
