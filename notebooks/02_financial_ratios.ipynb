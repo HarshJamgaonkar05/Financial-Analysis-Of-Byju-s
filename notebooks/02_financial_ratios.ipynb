{
 "cells": [
  {
   "cell_type": "markdown",
   "id": "3f6ff8f6",
   "metadata": {},
   "source": [
    "Analyze revenue, losses, margins\n",
    "\n",
    "Calculate burn rate and runway\n",
    "\n",
    "Compute solvency and profitability ratios"
   ]
  }
 ],
 "metadata": {
  "language_info": {
   "name": "python"
  }
 },
 "nbformat": 4,
 "nbformat_minor": 5
}
